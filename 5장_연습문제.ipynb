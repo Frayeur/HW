{
  "nbformat": 4,
  "nbformat_minor": 0,
  "metadata": {
    "colab": {
      "name": "5장 연습문제",
      "provenance": [],
      "toc_visible": true,
      "include_colab_link": true
    },
    "kernelspec": {
      "name": "python3",
      "display_name": "Python 3"
    }
  },
  "cells": [
    {
      "cell_type": "markdown",
      "metadata": {
        "id": "view-in-github",
        "colab_type": "text"
      },
      "source": [
        "<a href=\"https://colab.research.google.com/github/Frayeur/HW/blob/master/5%EC%9E%A5_%EC%97%B0%EC%8A%B5%EB%AC%B8%EC%A0%9C.ipynb\" target=\"_parent\"><img src=\"https://colab.research.google.com/assets/colab-badge.svg\" alt=\"Open In Colab\"/></a>"
      ]
    },
    {
      "cell_type": "markdown",
      "metadata": {
        "id": "Qu1jvUUGoB-t",
        "colab_type": "text"
      },
      "source": [
        "# 05장 연습문제\n",
        "\n",
        "\n",
        "**Q1**\n",
        "\n",
        "---\n",
        "\n",
        "클래스를 상속하는 UpgradeCalculator를 만들고 값을 뺄 수 있는 minus 메서드를 추가해 보자."
      ]
    },
    {
      "cell_type": "code",
      "metadata": {
        "id": "i9TORTOBoH_w",
        "colab_type": "code",
        "colab": {}
      },
      "source": [
        "class Calculator:\n",
        "  def _init_(self):\n",
        "    self.value = 0\n",
        "    \n",
        "  def add(self, val):\n",
        "     self.value += val  "
      ],
      "execution_count": 0,
      "outputs": []
    },
    {
      "cell_type": "markdown",
      "metadata": {
        "id": "Z4xmvWjHotUe",
        "colab_type": "text"
      },
      "source": [
        "**A**1\n",
        "\n",
        "---\n",
        "다음과 같이 Calculator 클래스를 상속하는 UpgradeCalculator 클래스를 만들고 minus 메서드를 추가한다.\n",
        "\n",
        "\n",
        "\n",
        "---\n",
        "\n",
        "\n"
      ]
    },
    {
      "cell_type": "code",
      "metadata": {
        "id": "spu4MVHjqeSu",
        "colab_type": "code",
        "colab": {}
      },
      "source": [
        "class UpgradeCalculator(Calculator):\n",
        "  def minus(self, val):\n",
        "    self.value -= val"
      ],
      "execution_count": 0,
      "outputs": []
    },
    {
      "cell_type": "code",
      "metadata": {
        "id": "0QV_Jvu8ofgZ",
        "colab_type": "code",
        "colab": {}
      },
      "source": [
        "cal = UpgradeCalculator()\n",
        "cal.add(10)\n",
        "cal.minus(7)\n",
        "\n",
        "print(cal.value)  #10에서 7을 뺀 3을 출력"
      ],
      "execution_count": 0,
      "outputs": []
    },
    {
      "cell_type": "code",
      "metadata": {
        "id": "wgMVHgNvpQ9n",
        "colab_type": "code",
        "colab": {
          "base_uri": "https://localhost:8080/",
          "height": 35
        },
        "outputId": "32a59db9-6f89-42a1-dc93-6d568e69e82b"
      },
      "source": [
        "cal = UpgradeCalculator()\n",
        "cal.add(10)\n",
        "cal.minus(7)\n",
        "print (cal.value)"
      ],
      "execution_count": 25,
      "outputs": [
        {
          "output_type": "stream",
          "text": [
            "3\n"
          ],
          "name": "stdout"
        }
      ]
    },
    {
      "cell_type": "markdown",
      "metadata": {
        "id": "nVuRvF22qxUm",
        "colab_type": "text"
      },
      "source": [
        "**Q2**\n",
        "\n",
        "\n",
        "---\n",
        "\n",
        "객체변수 value가 100 이상의 값은 가질 수 없도록 제한하는 MaxLimitCalculator 클래스를 만들어 보자. \n",
        "\n",
        "---\n",
        "\n",
        "Calculator 클래스를 상속하고 add 메서드를 오버라이딩하여 다음과 같은 클래스를 만든다."
      ]
    },
    {
      "cell_type": "code",
      "metadata": {
        "id": "maSnVAIgsTlO",
        "colab_type": "code",
        "colab": {}
      },
      "source": [
        "class MaxLimitCalculator(Calculator):\n",
        "  def add(self, val):\n",
        "    self.value += val\n",
        "    if self.value >100:\n",
        "      self.value = 100"
      ],
      "execution_count": 0,
      "outputs": []
    },
    {
      "cell_type": "code",
      "metadata": {
        "id": "INkBOQi0sco5",
        "colab_type": "code",
        "colab": {
          "base_uri": "https://localhost:8080/",
          "height": 35
        },
        "outputId": "7c3d39df-d322-4c7a-a08a-861587dae6b9"
      },
      "source": [
        "cal = MaxLimitCalculator()\n",
        "cal.add(50)\n",
        "cal.add(60)\n",
        "\n",
        "print(cal.value)"
      ],
      "execution_count": 31,
      "outputs": [
        {
          "output_type": "stream",
          "text": [
            "100\n"
          ],
          "name": "stdout"
        }
      ]
    },
    {
      "cell_type": "markdown",
      "metadata": {
        "id": "3MlihbzAtlvJ",
        "colab_type": "text"
      },
      "source": [
        "**Q3**\n",
        "\n",
        "---\n",
        "\n",
        "다음 결과를 예측해 보자.\n",
        "\n",
        "---\n",
        "\n",
        "하나."
      ]
    },
    {
      "cell_type": "code",
      "metadata": {
        "id": "WCUDBv3PtVwn",
        "colab_type": "code",
        "colab": {
          "base_uri": "https://localhost:8080/",
          "height": 35
        },
        "outputId": "40fc77bc-888e-4e2c-c441-7bf1c0145ed3"
      },
      "source": [
        ">>> all([1, 2, abs(-3)-3])"
      ],
      "execution_count": 33,
      "outputs": [
        {
          "output_type": "execute_result",
          "data": {
            "text/plain": [
              "False"
            ]
          },
          "metadata": {
            "tags": []
          },
          "execution_count": 33
        }
      ]
    },
    {
      "cell_type": "markdown",
      "metadata": {
        "id": "s1fbnhNSt1lI",
        "colab_type": "text"
      },
      "source": [
        "abs(-3)은 -3의 절댓값이므로 3이 되어 all([1,2,0])이 되고, 리스트의 요솟값중 0이 있기 때문에 all 내장 함수의 결과는 False가 된다.\n",
        "\n",
        "---\n",
        "\n",
        "둘."
      ]
    },
    {
      "cell_type": "code",
      "metadata": {
        "id": "innuBf5qtyiM",
        "colab_type": "code",
        "colab": {
          "base_uri": "https://localhost:8080/",
          "height": 35
        },
        "outputId": "cbb58153-f1e8-4947-b1d9-a05fbb1755e3"
      },
      "source": [
        ">>> chr(ord('a')) == 'a'"
      ],
      "execution_count": 35,
      "outputs": [
        {
          "output_type": "execute_result",
          "data": {
            "text/plain": [
              "True"
            ]
          },
          "metadata": {
            "tags": []
          },
          "execution_count": 35
        }
      ]
    },
    {
      "cell_type": "markdown",
      "metadata": {
        "id": "Ij69q7TuuKAF",
        "colab_type": "text"
      },
      "source": [
        "ord('a') 의 결과는 97이 되어 chr(97)로 치환된다. chr(97)의 결과는 다시 'a'가 되므로 'a' == 'a'가 되어 True를 돌려준다.\n",
        "\n",
        "---"
      ]
    },
    {
      "cell_type": "markdown",
      "metadata": {
        "id": "UJ3cIVx6uM0S",
        "colab_type": "text"
      },
      "source": [
        "**Q4**\n",
        "\n",
        "---\n",
        "\n",
        "filter와 lambda를 사용하여 리스트 [1, -2, 3, -5, 8, -3]에서 음수를 모두 제거해 보자.\n",
        "\n",
        "---\n",
        "\n",
        "음수를 제거하기위한 filter의 함수로서 lambda함수를 만들어 실행한다."
      ]
    },
    {
      "cell_type": "code",
      "metadata": {
        "id": "PlfArKx9uFBf",
        "colab_type": "code",
        "colab": {
          "base_uri": "https://localhost:8080/",
          "height": 35
        },
        "outputId": "d2e0db61-c9be-4e64-f922-6c33b66f35dd"
      },
      "source": [
        "list(filter(lambda x:x>0, [1, -2, 3, -5, 8, -3]))"
      ],
      "execution_count": 37,
      "outputs": [
        {
          "output_type": "execute_result",
          "data": {
            "text/plain": [
              "[1, 3, 8]"
            ]
          },
          "metadata": {
            "tags": []
          },
          "execution_count": 37
        }
      ]
    },
    {
      "cell_type": "markdown",
      "metadata": {
        "id": "FpDCwVN5um4p",
        "colab_type": "text"
      },
      "source": [
        "**Q5**\n",
        "\n",
        "---\n",
        "\n",
        "'0xea' 라는 16진수 문자열을 10진수로 변경해 보자.\n",
        "\n",
        "---\n",
        "\n",
        "init 내장함수를 아래와 같이 실행해본다."
      ]
    },
    {
      "cell_type": "code",
      "metadata": {
        "id": "JM6btWZ0ugBj",
        "colab_type": "code",
        "colab": {
          "base_uri": "https://localhost:8080/",
          "height": 35
        },
        "outputId": "6c2778fa-3d0d-4aa1-f953-7c2b1eed3175"
      },
      "source": [
        "int('0xea', 16)"
      ],
      "execution_count": 38,
      "outputs": [
        {
          "output_type": "execute_result",
          "data": {
            "text/plain": [
              "234"
            ]
          },
          "metadata": {
            "tags": []
          },
          "execution_count": 38
        }
      ]
    },
    {
      "cell_type": "markdown",
      "metadata": {
        "id": "aDgumHk3u5Gn",
        "colab_type": "text"
      },
      "source": [
        "**Q6**\n",
        "\n",
        "---\n",
        "\n",
        "map과 lambda를 사용하여 [1, 2, 3, 4] 라는 리스트의 각 요솟값에 3이 곱해진 리스트 [3, 6, 9, 12]를 만들어 보자.\n",
        "\n",
        "---\n",
        "\n",
        "입력에 항상 3을 곱하여 돌려 주는 lambda 함수를 만들고 map과 조합하여 실행한다."
      ]
    },
    {
      "cell_type": "code",
      "metadata": {
        "id": "-hwPA6ctu37P",
        "colab_type": "code",
        "colab": {
          "base_uri": "https://localhost:8080/",
          "height": 35
        },
        "outputId": "306ab125-fa0a-436b-9252-91f7a9ae0885"
      },
      "source": [
        "list(map(lambda x:x*3, [1,2,3,4]))"
      ],
      "execution_count": 40,
      "outputs": [
        {
          "output_type": "execute_result",
          "data": {
            "text/plain": [
              "[3, 6, 9, 12]"
            ]
          },
          "metadata": {
            "tags": []
          },
          "execution_count": 40
        }
      ]
    },
    {
      "cell_type": "markdown",
      "metadata": {
        "id": "K55ftUaIvJ1J",
        "colab_type": "text"
      },
      "source": [
        "**Q7**\n",
        "\n",
        "---\n",
        "\n",
        "다음 리스트의 최댓값과 최솟값의 합을 구해 보자.\n",
        "\n",
        "---\n",
        "\n",
        "리스트의 최댓값은 max, 최솟값은 min 내장 함수를 사용하여 구한다."
      ]
    },
    {
      "cell_type": "code",
      "metadata": {
        "id": "vDyZV34BvHv8",
        "colab_type": "code",
        "colab": {
          "base_uri": "https://localhost:8080/",
          "height": 35
        },
        "outputId": "21ef73d6-5bec-4092-886f-0840ddc955dc"
      },
      "source": [
        "a = [-8, 2, 7, 5, -3, 5, 0, 1]\n",
        "max(a) + min(a)"
      ],
      "execution_count": 41,
      "outputs": [
        {
          "output_type": "execute_result",
          "data": {
            "text/plain": [
              "-1"
            ]
          },
          "metadata": {
            "tags": []
          },
          "execution_count": 41
        }
      ]
    },
    {
      "cell_type": "markdown",
      "metadata": {
        "id": "B4MW486QvUb9",
        "colab_type": "text"
      },
      "source": [
        "**Q8**\n",
        "\n",
        "---\n",
        "\n",
        "5.666666666666667을 소수점 4자리까지만 반올림하여 표시해 보자.\n",
        "\n",
        "---\n",
        "\n",
        "round 내장 함수를 사용하면 반올림하여 소수점 4자리까지 표시할 수 있다.\n"
      ]
    },
    {
      "cell_type": "code",
      "metadata": {
        "id": "dQyojoa9vTOS",
        "colab_type": "code",
        "colab": {
          "base_uri": "https://localhost:8080/",
          "height": 35
        },
        "outputId": "2bf9ad32-0144-473c-d87e-952b52311278"
      },
      "source": [
        "round(17/3, 4)"
      ],
      "execution_count": 42,
      "outputs": [
        {
          "output_type": "execute_result",
          "data": {
            "text/plain": [
              "5.6667"
            ]
          },
          "metadata": {
            "tags": []
          },
          "execution_count": 42
        }
      ]
    },
    {
      "cell_type": "markdown",
      "metadata": {
        "id": "h0Z_WPoZvejd",
        "colab_type": "text"
      },
      "source": [
        "**Q9**\n",
        "\n",
        "---\n",
        "\n",
        "다음과 같이 실행할 때 입력값을 모두 더하여 출력하는 스크립트(C:\\doit\\myargv.py)를 작성해 보자.\n",
        "\n",
        "---\n",
        "\n",
        " sys모듈의 argv를 사용하여 명령 행 입력값 모두를 차례로 더한다."
      ]
    },
    {
      "cell_type": "code",
      "metadata": {
        "id": "vU1i9babvc0R",
        "colab_type": "code",
        "colab": {
          "base_uri": "https://localhost:8080/",
          "height": 127
        },
        "outputId": "c7e2998e-c04e-4b18-af74-c84219d52856"
      },
      "source": [
        "from google.colab import drive\n",
        "\n",
        "drive.mount('/content/gdrive')"
      ],
      "execution_count": 56,
      "outputs": [
        {
          "output_type": "stream",
          "text": [
            "Go to this URL in a browser: https://accounts.google.com/o/oauth2/auth?client_id=947318989803-6bn6qk8qdgf4n4g3pfee6491hc0brc4i.apps.googleusercontent.com&redirect_uri=urn%3Aietf%3Awg%3Aoauth%3A2.0%3Aoob&scope=email%20https%3A%2F%2Fwww.googleapis.com%2Fauth%2Fdocs.test%20https%3A%2F%2Fwww.googleapis.com%2Fauth%2Fdrive%20https%3A%2F%2Fwww.googleapis.com%2Fauth%2Fdrive.photos.readonly%20https%3A%2F%2Fwww.googleapis.com%2Fauth%2Fpeopleapi.readonly&response_type=code\n",
            "\n",
            "Enter your authorization code:\n",
            "··········\n",
            "Mounted at /content/gdrive\n"
          ],
          "name": "stdout"
        }
      ]
    },
    {
      "cell_type": "code",
      "metadata": {
        "id": "Vd3F1_iTzSOx",
        "colab_type": "code",
        "colab": {}
      },
      "source": [
        "import sys\n",
        "sys.path.append(\"/content/gdrive/My Drive\")"
      ],
      "execution_count": 0,
      "outputs": []
    },
    {
      "cell_type": "code",
      "metadata": {
        "id": "6WkYtzyGzW6w",
        "colab_type": "code",
        "colab": {}
      },
      "source": [
        "import sys\n",
        "\n",
        "numbers = sys.argv[1:] \n",
        "\n",
        "result = 0\n",
        "for number in numbers:\n",
        "    result += int(number)\n",
        "print(result)"
      ],
      "execution_count": 0,
      "outputs": []
    },
    {
      "cell_type": "markdown",
      "metadata": {
        "id": "h7fivV97053G",
        "colab_type": "text"
      },
      "source": [
        "**Q10**\n",
        "\n",
        "---\n",
        "\n",
        "os 모듈을 사용하여 코드를 작성해 보자.\n",
        "\n",
        "---\n",
        "\n",
        "os 모듈의 chdir을 사용하여 c:\\doit이라는 디렉터리로 이동한다."
      ]
    },
    {
      "cell_type": "code",
      "metadata": {
        "id": "uLPtwsy8z8d-",
        "colab_type": "code",
        "colab": {
          "base_uri": "https://localhost:8080/",
          "height": 190
        },
        "outputId": "9fb14aee-2276-4f79-fcf9-a67320bda4ac"
      },
      "source": [
        "import os\n",
        "os.chdir(\"c:/doit\")"
      ],
      "execution_count": 76,
      "outputs": [
        {
          "output_type": "error",
          "ename": "FileNotFoundError",
          "evalue": "ignored",
          "traceback": [
            "\u001b[0;31m---------------------------------------------------------------------------\u001b[0m",
            "\u001b[0;31mFileNotFoundError\u001b[0m                         Traceback (most recent call last)",
            "\u001b[0;32m<ipython-input-76-c051b2645b2b>\u001b[0m in \u001b[0;36m<module>\u001b[0;34m()\u001b[0m\n\u001b[1;32m      1\u001b[0m \u001b[0;32mimport\u001b[0m \u001b[0mos\u001b[0m\u001b[0;34m\u001b[0m\u001b[0;34m\u001b[0m\u001b[0m\n\u001b[0;32m----> 2\u001b[0;31m \u001b[0mos\u001b[0m\u001b[0;34m.\u001b[0m\u001b[0mchdir\u001b[0m\u001b[0;34m(\u001b[0m\u001b[0;34m\"c:/doit\"\u001b[0m\u001b[0;34m)\u001b[0m\u001b[0;34m\u001b[0m\u001b[0;34m\u001b[0m\u001b[0m\n\u001b[0m",
            "\u001b[0;31mFileNotFoundError\u001b[0m: [Errno 2] No such file or directory: 'c:/doit'"
          ]
        }
      ]
    },
    {
      "cell_type": "code",
      "metadata": {
        "id": "25Ro2Eed1G-s",
        "colab_type": "code",
        "colab": {}
      },
      "source": [
        "result = os.popen(\"dir\")"
      ],
      "execution_count": 0,
      "outputs": []
    },
    {
      "cell_type": "code",
      "metadata": {
        "id": "VZJFmfTM1ymn",
        "colab_type": "code",
        "colab": {
          "base_uri": "https://localhost:8080/",
          "height": 280
        },
        "outputId": "79bd094c-9f74-4b36-aeb7-5c38453f3363"
      },
      "source": [
        " print(result.read())\n",
        "...\n",
        "abc.txt\n",
        "bidusource.html\n",
        "..."
      ],
      "execution_count": 78,
      "outputs": [
        {
          "output_type": "stream",
          "text": [
            "gd  gdrive  sample_data  untitled\n",
            "\n"
          ],
          "name": "stdout"
        },
        {
          "output_type": "error",
          "ename": "NameError",
          "evalue": "ignored",
          "traceback": [
            "\u001b[0;31m---------------------------------------------------------------------------\u001b[0m",
            "\u001b[0;31mNameError\u001b[0m                                 Traceback (most recent call last)",
            "\u001b[0;32m<ipython-input-78-4edca0d2692b>\u001b[0m in \u001b[0;36m<module>\u001b[0;34m()\u001b[0m\n\u001b[1;32m      1\u001b[0m \u001b[0mprint\u001b[0m\u001b[0;34m(\u001b[0m\u001b[0mresult\u001b[0m\u001b[0;34m.\u001b[0m\u001b[0mread\u001b[0m\u001b[0;34m(\u001b[0m\u001b[0;34m)\u001b[0m\u001b[0;34m)\u001b[0m\u001b[0;34m\u001b[0m\u001b[0;34m\u001b[0m\u001b[0m\n\u001b[1;32m      2\u001b[0m \u001b[0;34m\u001b[0m\u001b[0m\n\u001b[0;32m----> 3\u001b[0;31m \u001b[0mabc\u001b[0m\u001b[0;34m.\u001b[0m\u001b[0mtxt\u001b[0m\u001b[0;34m\u001b[0m\u001b[0;34m\u001b[0m\u001b[0m\n\u001b[0m\u001b[1;32m      4\u001b[0m \u001b[0mbidusource\u001b[0m\u001b[0;34m.\u001b[0m\u001b[0mhtml\u001b[0m\u001b[0;34m\u001b[0m\u001b[0;34m\u001b[0m\u001b[0m\n\u001b[1;32m      5\u001b[0m \u001b[0;34m\u001b[0m\u001b[0m\n",
            "\u001b[0;31mNameError\u001b[0m: name 'abc' is not defined"
          ]
        }
      ]
    },
    {
      "cell_type": "markdown",
      "metadata": {
        "id": "XqH3YrqV16iE",
        "colab_type": "text"
      },
      "source": [
        "**Q11**\n",
        "\n",
        "---\n",
        "\n",
        "glob 모듈을 사용하여 C:\\doit 디렉터리의 파일 중 확장자가 .py인 파일만 출력하는 프로그램을 작성해 보자.\n",
        "\n",
        "---"
      ]
    },
    {
      "cell_type": "code",
      "metadata": {
        "id": "7KUohoP610jc",
        "colab_type": "code",
        "colab": {
          "base_uri": "https://localhost:8080/",
          "height": 35
        },
        "outputId": "28b50270-fd8d-493b-ba9e-8239dd7346c6"
      },
      "source": [
        "import glob\n",
        "glob.glob(\"c:/doit/*.py\")"
      ],
      "execution_count": 81,
      "outputs": [
        {
          "output_type": "execute_result",
          "data": {
            "text/plain": [
              "[]"
            ]
          },
          "metadata": {
            "tags": []
          },
          "execution_count": 81
        }
      ]
    },
    {
      "cell_type": "markdown",
      "metadata": {
        "id": "x8jcImOL2Rqx",
        "colab_type": "text"
      },
      "source": [
        "**Q12**\n",
        "\n",
        "---\n",
        "\n",
        "random 모듈을 사용하여 로또 번호(1~45 사이의 숫자 6개)를 생성해 보자.\n",
        "\n",
        "---"
      ]
    },
    {
      "cell_type": "code",
      "metadata": {
        "id": "xOV68zi92Fw_",
        "colab_type": "code",
        "colab": {
          "base_uri": "https://localhost:8080/",
          "height": 35
        },
        "outputId": "d4cc0918-829f-4930-ab0f-206d44d2e1e2"
      },
      "source": [
        "import random\n",
        "\n",
        "result = []\n",
        "while len(result) < 6:\n",
        "    num = random.randint(1, 45)  \n",
        "    if num not in result:\n",
        "        result.append(num)\n",
        "\n",
        "print(result)"
      ],
      "execution_count": 84,
      "outputs": [
        {
          "output_type": "stream",
          "text": [
            "[25, 19, 42, 3, 2, 44]\n"
          ],
          "name": "stdout"
        }
      ]
    },
    {
      "cell_type": "code",
      "metadata": {
        "id": "vMDmst2y2ag9",
        "colab_type": "code",
        "colab": {}
      },
      "source": [
        ""
      ],
      "execution_count": 0,
      "outputs": []
    }
  ]
}