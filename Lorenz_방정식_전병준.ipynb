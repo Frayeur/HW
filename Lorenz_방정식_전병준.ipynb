{
  "nbformat": 4,
  "nbformat_minor": 0,
  "metadata": {
    "colab": {
      "name": "Lorenz 방정식_전병준",
      "provenance": [],
      "include_colab_link": true
    },
    "kernelspec": {
      "name": "python3",
      "display_name": "Python 3"
    }
  },
  "cells": [
    {
      "cell_type": "markdown",
      "metadata": {
        "id": "view-in-github",
        "colab_type": "text"
      },
      "source": [
        "<a href=\"https://colab.research.google.com/github/Frayeur/HW/blob/master/Lorenz_%EB%B0%A9%EC%A0%95%EC%8B%9D_%EC%A0%84%EB%B3%91%EC%A4%80.ipynb\" target=\"_parent\"><img src=\"https://colab.research.google.com/assets/colab-badge.svg\" alt=\"Open In Colab\"/></a>"
      ]
    },
    {
      "cell_type": "code",
      "metadata": {
        "id": "fpM23U_mN1DH",
        "colab_type": "code",
        "colab": {}
      },
      "source": [
        "import numpy as np\n",
        "from scipy.integrate import solve_ivp\n",
        "\n",
        "s = 10.\n",
        "b = 8./3.\n",
        "r = 28.\n",
        "\n",
        "t0 = 0\n",
        "x0 = [1.0, 1.0, 20.00]\n",
        "\n",
        "def f(t,x):\n",
        "  ff = [0,0,0]\n",
        "  ff[0] = s*(x[1]-x[0])\n",
        "  ff[1] = r*x[0]-x[1]-x[0]*x[2]\n",
        "  ff[2] = x[0]*x[1]-b*x[2]\n",
        "  return ff\n",
        "\n",
        "def RK(t, x0):\n",
        "  x = [0,0,0]\n",
        "  f0 = f(t,x0)\n",
        "  for i in range(3):\n",
        "    x[i] = x0[i]+f0[i]*dt/2\n",
        "  f1 = f(t+dt/2, x)\n",
        "  for i in range(3):\n",
        "    x[i] = x0[i]+f1[i]*dt/2\n",
        "  f2 = f(t+dt/2,x)\n",
        "  for i in range(3):\n",
        "    x[1] = x0[i]+f1[i]*dt\n",
        "  f3 = f(t+dt, x)\n",
        "  for i in range(3):\n",
        "    x[i] = x0[i]+(f0[i]+2*f1[i]+2*f2[i]+f3[i])*dt/6\n",
        "  return x\n",
        "\n",
        "  x = RK(t, x0)\n",
        "\n",
        "  x0 = x"
      ],
      "execution_count": 0,
      "outputs": []
    },
    {
      "cell_type": "code",
      "metadata": {
        "id": "ee7y0h3WN2fM",
        "colab_type": "code",
        "colab": {}
      },
      "source": [
        ""
      ],
      "execution_count": 0,
      "outputs": []
    }
  ]
}