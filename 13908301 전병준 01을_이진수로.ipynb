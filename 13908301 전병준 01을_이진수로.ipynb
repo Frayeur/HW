{
  "nbformat": 4,
  "nbformat_minor": 0,
  "metadata": {
    "colab": {
      "name": "01을 이진수로",
      "provenance": [],
      "include_colab_link": true
    },
    "kernelspec": {
      "name": "python3",
      "display_name": "Python 3"
    }
  },
  "cells": [
    {
      "cell_type": "markdown",
      "metadata": {
        "id": "view-in-github",
        "colab_type": "text"
      },
      "source": [
        "<a href=\"https://colab.research.google.com/github/Frayeur/HW/blob/master/13908301%20%EC%A0%84%EB%B3%91%EC%A4%80%2001%EC%9D%84_%EC%9D%B4%EC%A7%84%EC%88%98%EB%A1%9C.ipynb\" target=\"_parent\"><img src=\"https://colab.research.google.com/assets/colab-badge.svg\" alt=\"Open In Colab\"/></a>"
      ]
    },
    {
      "cell_type": "code",
      "metadata": {
        "id": "_urqsJGqRGxq",
        "colab_type": "code",
        "colab": {
          "base_uri": "https://localhost:8080/",
          "height": 35
        },
        "outputId": "45e89fbd-f1b1-48a3-890a-0318db5583a7"
      },
      "source": [
        "int('01',2)"
      ],
      "execution_count": 1,
      "outputs": [
        {
          "output_type": "execute_result",
          "data": {
            "text/plain": [
              "1"
            ]
          },
          "metadata": {
            "tags": []
          },
          "execution_count": 1
        }
      ]
    },
    {
      "cell_type": "code",
      "metadata": {
        "id": "qli7gDLQRQXt",
        "colab_type": "code",
        "colab": {}
      },
      "source": [
        "a1=int('01',2)"
      ],
      "execution_count": 0,
      "outputs": []
    },
    {
      "cell_type": "code",
      "metadata": {
        "id": "o2YWMpstRUj-",
        "colab_type": "code",
        "colab": {
          "base_uri": "https://localhost:8080/",
          "height": 35
        },
        "outputId": "8a78369e-3e66-489e-8c00-dcc9c9e231fd"
      },
      "source": [
        "print(a1)"
      ],
      "execution_count": 9,
      "outputs": [
        {
          "output_type": "stream",
          "text": [
            "1\n"
          ],
          "name": "stdout"
        }
      ]
    },
    {
      "cell_type": "code",
      "metadata": {
        "id": "Vx-LR-1nSdIi",
        "colab_type": "code",
        "colab": {
          "base_uri": "https://localhost:8080/",
          "height": 35
        },
        "outputId": "c411742b-ae51-4e63-f298-c1cc28defa2d"
      },
      "source": [
        "a2=bin(1)\n",
        "print(a2)"
      ],
      "execution_count": 13,
      "outputs": [
        {
          "output_type": "stream",
          "text": [
            "0b1\n"
          ],
          "name": "stdout"
        }
      ]
    },
    {
      "cell_type": "code",
      "metadata": {
        "id": "7X_eeXOtSiGF",
        "colab_type": "code",
        "colab": {
          "base_uri": "https://localhost:8080/",
          "height": 125
        },
        "outputId": "b580111c-53ae-4e18-f556-1e7a54f47635"
      },
      "source": [
        "number=input(\"Your Number: \")\n",
        "base=int(input(\"Your Base: \"))\n",
        "\n",
        "try:\n",
        "  if base==16 or base==10 or base==8 or base==2:\n",
        "    dap=int(number, base)\n",
        "    print(\"To Dec: \", dap)\n",
        "    print(\"To Hex: \",hex(dap))\n",
        "    print(\"To Oct: \",oct(dap))\n",
        "    print(\"To Bin: \",bin(dap))\n",
        "  else:\n",
        "    print(\"not supported\")\n",
        "except ValueError:\n",
        "    print(\"value not supported\")"
      ],
      "execution_count": 17,
      "outputs": [
        {
          "output_type": "stream",
          "text": [
            "Your Number: 01\n",
            "Your Base: 2\n",
            "To Dec:  1\n",
            "To Hex:  0x1\n",
            "To Oct:  0o1\n",
            "To Bin:  0b1\n"
          ],
          "name": "stdout"
        }
      ]
    },
    {
      "cell_type": "code",
      "metadata": {
        "id": "4NrNyCSZTPCp",
        "colab_type": "code",
        "colab": {}
      },
      "source": [
        ""
      ],
      "execution_count": 0,
      "outputs": []
    }
  ]
}